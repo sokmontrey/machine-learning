{
 "cells": [
  {
   "cell_type": "code",
   "execution_count": 1,
   "metadata": {},
   "outputs": [],
   "source": [
    "import torch as t\n",
    "import torch.nn as nn\n",
    "import torch.nn.functional as F\n",
    "import torch.optim as optim\n",
    "import numpy as np"
   ]
  },
  {
   "cell_type": "markdown",
   "metadata": {},
   "source": [
    "By Parameters"
   ]
  },
  {
   "cell_type": "code",
   "execution_count": 16,
   "metadata": {},
   "outputs": [],
   "source": [
    "# save by torch.save(model.state_dict(), PATH)\n",
    "# required a model with the same structure. ie. same initialization on the same model class\n",
    "model_parameters = t.load('./star_model.pth')"
   ]
  },
  {
   "cell_type": "markdown",
   "metadata": {},
   "source": [
    "# Model"
   ]
  },
  {
   "cell_type": "code",
   "execution_count": 17,
   "metadata": {},
   "outputs": [],
   "source": [
    "# A complete model class with n layers and fit method.\n",
    "class Model(nn.Module):\n",
    "    def __init__(self, shapes, activations, loss_function, optimizer, optim_params={}):\n",
    "        super().__init__()\n",
    "        self.shapes = shapes\n",
    "        self.activations = activations\n",
    "        self.loss_function = loss_function\n",
    "\n",
    "        self.layers = nn.ModuleList([\n",
    "            nn.Linear(shapes[i], shapes[i + 1]) for i in range(len(shapes) - 1)\n",
    "        ])\n",
    "\n",
    "        self.optimizer = optimizer(self.parameters(), **optim_params)\n",
    "    \n",
    "    def forward(self, x):\n",
    "        y = x\n",
    "        for i in range(len(self.layers)):\n",
    "            y = self.layers[i].forward(y)\n",
    "            if self.activations[i] is not None:\n",
    "                y = self.activations[i](y)\n",
    "        return y\n",
    "\n",
    "    def loss(self, x, y):\n",
    "        return self.loss_function(self.forward(x), y)\n",
    "    \n",
    "    def fit(self, x_train, y_train, x_test, y_test, epochs=100):\n",
    "        losses = []\n",
    "\n",
    "        for epoch in range(epochs):\n",
    "            predictions = self.forward(x_train)\n",
    "\n",
    "            loss = self.loss_function(predictions, y_train)\n",
    "            loss.backward()\n",
    "\n",
    "            self.optimizer.step()\n",
    "            self.optimizer.zero_grad()\n",
    "\n",
    "            # evaluate loss on test set\n",
    "            with t.no_grad():\n",
    "                predictions = self.forward(x_test)\n",
    "                loss = self.loss_function(predictions, y_test)\n",
    "                losses.append(loss.item())\n",
    "\n",
    "            if epoch % 100 == 0:\n",
    "                print(f'Epoch {epoch}: {loss.item()}')\n",
    "\n",
    "        return losses"
   ]
  },
  {
   "cell_type": "markdown",
   "metadata": {},
   "source": [
    "# Loading the parameters"
   ]
  },
  {
   "cell_type": "code",
   "execution_count": 18,
   "metadata": {},
   "outputs": [
    {
     "data": {
      "text/plain": [
       "<All keys matched successfully>"
      ]
     },
     "execution_count": 18,
     "metadata": {},
     "output_type": "execute_result"
    }
   ],
   "source": [
    "m = Model(\n",
    "    [3, 10, 6], \n",
    "    [F.relu, None],\n",
    "    F.cross_entropy,\n",
    "    optim.Adam,\n",
    "    optim_params={'lr': 0.01}\n",
    ")\n",
    "\n",
    "m.load_state_dict(model_parameters)"
   ]
  }
 ],
 "metadata": {
  "kernelspec": {
   "display_name": "Python 3",
   "language": "python",
   "name": "python3"
  },
  "language_info": {
   "codemirror_mode": {
    "name": "ipython",
    "version": 3
   },
   "file_extension": ".py",
   "mimetype": "text/x-python",
   "name": "python",
   "nbconvert_exporter": "python",
   "pygments_lexer": "ipython3",
   "version": "3.9.0"
  }
 },
 "nbformat": 4,
 "nbformat_minor": 2
}
