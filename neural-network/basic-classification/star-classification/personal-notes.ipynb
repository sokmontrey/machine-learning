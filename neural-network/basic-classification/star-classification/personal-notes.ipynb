{
 "cells": [
  {
   "cell_type": "markdown",
   "metadata": {},
   "source": [
    "Use `model.train()` before the training loop and `model.eval()` before the testing loop is a good practice. It helps inform pytorch that the model is being train or test. \n",
    "\n",
    "[Stackoverflow:](https://stackoverflow.com/questions/51433378/what-does-model-train-do-in-pytorch)\n",
    "> model.train() tells your model that you are training the model. This helps inform layers such as Dropout and BatchNorm, which are designed to behave differently during training and evaluation. For instance, in training mode, BatchNorm updates a moving average on each new batch; whereas, for evaluation mode, these updates are frozen."
   ]
  },
  {
   "cell_type": "markdown",
   "metadata": {},
   "source": [
    "Calculate the loss of the model for testing using `with torch.no_grad()` should improve the performance because pytorch doesn't have keep track of the gradient during forward pass."
   ]
  },
  {
   "cell_type": "markdown",
   "metadata": {},
   "source": []
  }
 ],
 "metadata": {
  "language_info": {
   "name": "python"
  }
 },
 "nbformat": 4,
 "nbformat_minor": 2
}
