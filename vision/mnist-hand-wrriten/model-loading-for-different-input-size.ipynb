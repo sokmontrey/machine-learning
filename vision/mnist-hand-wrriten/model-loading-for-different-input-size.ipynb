{
 "cells": [
  {
   "cell_type": "code",
   "execution_count": 26,
   "metadata": {},
   "outputs": [],
   "source": [
    "import torch as t\n",
    "import torch.nn as nn\n",
    "import torch.nn.functional as F\n",
    "import torch.optim as optim\n",
    "import numpy as np\n",
    "import onnx"
   ]
  },
  {
   "cell_type": "code",
   "execution_count": 30,
   "metadata": {},
   "outputs": [],
   "source": [
    "class Net(nn.Module):\n",
    "    def __init__(self):\n",
    "        super().__init__()\n",
    "        # image size = 28x28\n",
    "        self.conv1 = nn.Conv2d(1, 10, 3) \n",
    "        # image size = 26x26 x 10\n",
    "        self.pool = nn.MaxPool2d(2, 2)\n",
    "        # image size = 13x13 x 10\n",
    "        self.layer1 = nn.Linear(13 * 13 * 10, 50)\n",
    "        self.layer2 = nn.Linear(50, 10)\n",
    "\n",
    "    def forward(self, flat_input):\n",
    "        # form 2d matrix from 1d vector\n",
    "        input = flat_input.view(1, 1, 28, 28)\n",
    "        y = self.pool(self.conv1(input))\n",
    "        y = t.flatten(y, 1)\n",
    "        y = self.layer1(y)\n",
    "        y = F.relu(y)\n",
    "        y = self.layer2(y)\n",
    "        y = F.softmax(y, dim=1)\n",
    "        return y\n",
    "    \n",
    "    def fit_batch(self, train_load, test_loader, loss_func, optimizer):\n",
    "        self.train()\n",
    "        for i, batch in enumerate(train_load):\n",
    "            batch_x, batch_y = batch\n",
    "\n",
    "            y_pred = self.forward(batch_x)\n",
    "            loss = loss_func(y_pred, batch_y)\n",
    "            loss.backward()\n",
    "\n",
    "            optimizer.step()\n",
    "            optimizer.zero_grad()\n",
    "\n",
    "            # if i % 200 == 0:\n",
    "            #     print(f\"Batch {i}/{len(train_load)}      training loss: {loss}\")\n",
    "\n",
    "        total_loss = 0\n",
    "        self.eval()\n",
    "        with t.no_grad():\n",
    "            for i, batch in enumerate(test_loader):\n",
    "                batch_x, batch_y = batch\n",
    "                y_pred = self.forward(batch_x)\n",
    "                loss = loss_func(y_pred, batch_y)\n",
    "                total_loss += loss\n",
    "        total_loss /= len(test_loader)\n",
    "        print(f\"Validation loss: {total_loss}\")\n",
    "        return total_loss"
   ]
  },
  {
   "cell_type": "code",
   "execution_count": 31,
   "metadata": {},
   "outputs": [],
   "source": [
    "model = Net()"
   ]
  },
  {
   "cell_type": "code",
   "execution_count": 32,
   "metadata": {},
   "outputs": [
    {
     "data": {
      "text/plain": [
       "<All keys matched successfully>"
      ]
     },
     "execution_count": 32,
     "metadata": {},
     "output_type": "execute_result"
    }
   ],
   "source": [
    "model.load_state_dict(t.load(\"./handwritten_model.pth\"))"
   ]
  },
  {
   "cell_type": "code",
   "execution_count": 33,
   "metadata": {},
   "outputs": [
    {
     "data": {
      "text/plain": [
       "torch.Size([784])"
      ]
     },
     "execution_count": 33,
     "metadata": {},
     "output_type": "execute_result"
    }
   ],
   "source": [
    "test_input = t.from_numpy(np.random.rand(28 * 28)).float()\n",
    "test_input.shape"
   ]
  },
  {
   "cell_type": "code",
   "execution_count": 34,
   "metadata": {},
   "outputs": [
    {
     "data": {
      "text/plain": [
       "tensor([[4.9756e-04, 3.1206e-31, 4.6606e-09, 1.7086e-06, 5.8082e-05, 1.4601e-04,\n",
       "         4.9442e-07, 8.0738e-11, 9.9930e-01, 4.8773e-09]],\n",
       "       grad_fn=<SoftmaxBackward0>)"
      ]
     },
     "execution_count": 34,
     "metadata": {},
     "output_type": "execute_result"
    }
   ],
   "source": [
    "model(test_input)"
   ]
  },
  {
   "cell_type": "code",
   "execution_count": 35,
   "metadata": {},
   "outputs": [],
   "source": [
    "t.onnx.export(model, t.randn(28 * 28), \"./handwritten_flatten.onnx\") # export to onnx"
   ]
  }
 ],
 "metadata": {
  "kernelspec": {
   "display_name": "Python 3",
   "language": "python",
   "name": "python3"
  },
  "language_info": {
   "codemirror_mode": {
    "name": "ipython",
    "version": 3
   },
   "file_extension": ".py",
   "mimetype": "text/x-python",
   "name": "python",
   "nbconvert_exporter": "python",
   "pygments_lexer": "ipython3",
   "version": "3.9.0"
  }
 },
 "nbformat": 4,
 "nbformat_minor": 2
}
