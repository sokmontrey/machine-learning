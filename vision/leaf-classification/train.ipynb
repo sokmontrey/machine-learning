{
 "cells": [
  {
   "cell_type": "code",
   "execution_count": 1,
   "metadata": {},
   "outputs": [
    {
     "name": "stderr",
     "output_type": "stream",
     "text": [
      "c:\\Users\\sokmo\\AppData\\Local\\Programs\\Python\\Python39\\lib\\site-packages\\sklearn\\utils\\_param_validation.py:11: UserWarning: A NumPy version >=1.22.4 and <1.29.0 is required for this version of SciPy (detected version 1.22.0)\n",
      "  from scipy.sparse import csr_matrix, issparse\n"
     ]
    }
   ],
   "source": [
    "import torch as t\n",
    "import torch.nn as nn\n",
    "import torch.nn.functional as F\n",
    "import torch.optim as optim\n",
    "from torch.utils.data import DataLoader, Dataset, ConcatDataset\n",
    "\n",
    "import torchvision as tv\n",
    "import PIL.Image as Image\n",
    "\n",
    "import pandas as pd\n",
    "from sklearn.model_selection import train_test_split\n",
    "import numpy as np\n",
    "import os\n",
    "\n",
    "import matplotlib.pyplot as plt\n",
    "import seaborn as sns"
   ]
  },
  {
   "cell_type": "markdown",
   "metadata": {},
   "source": [
    "The following dataset is from a kaggle competition: [Leaf Classification](https://www.kaggle.com/competitions/leaf-classification/overview)\n",
    "\n",
    "> IMPORTANT\n",
    "\n",
    "The dataset directory structure is modified.  Please update the img_dir and csv_dir to the correct form. Or modified your dataset directory into the form:\n",
    "\n",
    "- `leaf-classification/`\n",
    "    - `images/`\n",
    "        - `1.jpg`\n",
    "        - `...`\n",
    "    - `test.csv`\n",
    "    - `train.csv`"
   ]
  },
  {
   "cell_type": "code",
   "execution_count": 2,
   "metadata": {},
   "outputs": [
    {
     "data": {
      "text/html": [
       "<div>\n",
       "<style scoped>\n",
       "    .dataframe tbody tr th:only-of-type {\n",
       "        vertical-align: middle;\n",
       "    }\n",
       "\n",
       "    .dataframe tbody tr th {\n",
       "        vertical-align: top;\n",
       "    }\n",
       "\n",
       "    .dataframe thead th {\n",
       "        text-align: right;\n",
       "    }\n",
       "</style>\n",
       "<table border=\"1\" class=\"dataframe\">\n",
       "  <thead>\n",
       "    <tr style=\"text-align: right;\">\n",
       "      <th></th>\n",
       "      <th>id</th>\n",
       "      <th>species</th>\n",
       "      <th>margin1</th>\n",
       "      <th>margin2</th>\n",
       "      <th>margin3</th>\n",
       "      <th>margin4</th>\n",
       "      <th>margin5</th>\n",
       "      <th>margin6</th>\n",
       "      <th>margin7</th>\n",
       "      <th>margin8</th>\n",
       "      <th>...</th>\n",
       "      <th>texture55</th>\n",
       "      <th>texture56</th>\n",
       "      <th>texture57</th>\n",
       "      <th>texture58</th>\n",
       "      <th>texture59</th>\n",
       "      <th>texture60</th>\n",
       "      <th>texture61</th>\n",
       "      <th>texture62</th>\n",
       "      <th>texture63</th>\n",
       "      <th>texture64</th>\n",
       "    </tr>\n",
       "  </thead>\n",
       "  <tbody>\n",
       "    <tr>\n",
       "      <th>0</th>\n",
       "      <td>1</td>\n",
       "      <td>3</td>\n",
       "      <td>0.007812</td>\n",
       "      <td>0.023438</td>\n",
       "      <td>0.023438</td>\n",
       "      <td>0.003906</td>\n",
       "      <td>0.011719</td>\n",
       "      <td>0.009766</td>\n",
       "      <td>0.027344</td>\n",
       "      <td>0.0</td>\n",
       "      <td>...</td>\n",
       "      <td>0.007812</td>\n",
       "      <td>0.000000</td>\n",
       "      <td>0.002930</td>\n",
       "      <td>0.002930</td>\n",
       "      <td>0.035156</td>\n",
       "      <td>0.0</td>\n",
       "      <td>0.0</td>\n",
       "      <td>0.004883</td>\n",
       "      <td>0.000000</td>\n",
       "      <td>0.025391</td>\n",
       "    </tr>\n",
       "    <tr>\n",
       "      <th>1</th>\n",
       "      <td>2</td>\n",
       "      <td>49</td>\n",
       "      <td>0.005859</td>\n",
       "      <td>0.000000</td>\n",
       "      <td>0.031250</td>\n",
       "      <td>0.015625</td>\n",
       "      <td>0.025391</td>\n",
       "      <td>0.001953</td>\n",
       "      <td>0.019531</td>\n",
       "      <td>0.0</td>\n",
       "      <td>...</td>\n",
       "      <td>0.000977</td>\n",
       "      <td>0.000000</td>\n",
       "      <td>0.000000</td>\n",
       "      <td>0.000977</td>\n",
       "      <td>0.023438</td>\n",
       "      <td>0.0</td>\n",
       "      <td>0.0</td>\n",
       "      <td>0.000977</td>\n",
       "      <td>0.039062</td>\n",
       "      <td>0.022461</td>\n",
       "    </tr>\n",
       "    <tr>\n",
       "      <th>2</th>\n",
       "      <td>3</td>\n",
       "      <td>65</td>\n",
       "      <td>0.005859</td>\n",
       "      <td>0.009766</td>\n",
       "      <td>0.019531</td>\n",
       "      <td>0.007812</td>\n",
       "      <td>0.003906</td>\n",
       "      <td>0.005859</td>\n",
       "      <td>0.068359</td>\n",
       "      <td>0.0</td>\n",
       "      <td>...</td>\n",
       "      <td>0.154300</td>\n",
       "      <td>0.000000</td>\n",
       "      <td>0.005859</td>\n",
       "      <td>0.000977</td>\n",
       "      <td>0.007812</td>\n",
       "      <td>0.0</td>\n",
       "      <td>0.0</td>\n",
       "      <td>0.000000</td>\n",
       "      <td>0.020508</td>\n",
       "      <td>0.002930</td>\n",
       "    </tr>\n",
       "    <tr>\n",
       "      <th>3</th>\n",
       "      <td>5</td>\n",
       "      <td>94</td>\n",
       "      <td>0.000000</td>\n",
       "      <td>0.003906</td>\n",
       "      <td>0.023438</td>\n",
       "      <td>0.005859</td>\n",
       "      <td>0.021484</td>\n",
       "      <td>0.019531</td>\n",
       "      <td>0.023438</td>\n",
       "      <td>0.0</td>\n",
       "      <td>...</td>\n",
       "      <td>0.000000</td>\n",
       "      <td>0.000977</td>\n",
       "      <td>0.000000</td>\n",
       "      <td>0.000000</td>\n",
       "      <td>0.020508</td>\n",
       "      <td>0.0</td>\n",
       "      <td>0.0</td>\n",
       "      <td>0.017578</td>\n",
       "      <td>0.000000</td>\n",
       "      <td>0.047852</td>\n",
       "    </tr>\n",
       "    <tr>\n",
       "      <th>4</th>\n",
       "      <td>6</td>\n",
       "      <td>84</td>\n",
       "      <td>0.005859</td>\n",
       "      <td>0.003906</td>\n",
       "      <td>0.048828</td>\n",
       "      <td>0.009766</td>\n",
       "      <td>0.013672</td>\n",
       "      <td>0.015625</td>\n",
       "      <td>0.005859</td>\n",
       "      <td>0.0</td>\n",
       "      <td>...</td>\n",
       "      <td>0.096680</td>\n",
       "      <td>0.000000</td>\n",
       "      <td>0.021484</td>\n",
       "      <td>0.000000</td>\n",
       "      <td>0.000000</td>\n",
       "      <td>0.0</td>\n",
       "      <td>0.0</td>\n",
       "      <td>0.000000</td>\n",
       "      <td>0.000000</td>\n",
       "      <td>0.031250</td>\n",
       "    </tr>\n",
       "  </tbody>\n",
       "</table>\n",
       "<p>5 rows × 194 columns</p>\n",
       "</div>"
      ],
      "text/plain": [
       "   id  species   margin1   margin2   margin3   margin4   margin5   margin6  \\\n",
       "0   1        3  0.007812  0.023438  0.023438  0.003906  0.011719  0.009766   \n",
       "1   2       49  0.005859  0.000000  0.031250  0.015625  0.025391  0.001953   \n",
       "2   3       65  0.005859  0.009766  0.019531  0.007812  0.003906  0.005859   \n",
       "3   5       94  0.000000  0.003906  0.023438  0.005859  0.021484  0.019531   \n",
       "4   6       84  0.005859  0.003906  0.048828  0.009766  0.013672  0.015625   \n",
       "\n",
       "    margin7  margin8  ...  texture55  texture56  texture57  texture58  \\\n",
       "0  0.027344      0.0  ...   0.007812   0.000000   0.002930   0.002930   \n",
       "1  0.019531      0.0  ...   0.000977   0.000000   0.000000   0.000977   \n",
       "2  0.068359      0.0  ...   0.154300   0.000000   0.005859   0.000977   \n",
       "3  0.023438      0.0  ...   0.000000   0.000977   0.000000   0.000000   \n",
       "4  0.005859      0.0  ...   0.096680   0.000000   0.021484   0.000000   \n",
       "\n",
       "   texture59  texture60  texture61  texture62  texture63  texture64  \n",
       "0   0.035156        0.0        0.0   0.004883   0.000000   0.025391  \n",
       "1   0.023438        0.0        0.0   0.000977   0.039062   0.022461  \n",
       "2   0.007812        0.0        0.0   0.000000   0.020508   0.002930  \n",
       "3   0.020508        0.0        0.0   0.017578   0.000000   0.047852  \n",
       "4   0.000000        0.0        0.0   0.000000   0.000000   0.031250  \n",
       "\n",
       "[5 rows x 194 columns]"
      ]
     },
     "execution_count": 2,
     "metadata": {},
     "output_type": "execute_result"
    }
   ],
   "source": [
    "t.manual_seed(101)\n",
    "\n",
    "img_dir = '../../datasets/leaf-classification/images/'\n",
    "csv_dir = '../../datasets/leaf-classification/train.csv'\n",
    "\n",
    "img_filenames_list = os.listdir(img_dir)\n",
    "dataframe = pd.read_csv(csv_dir)\n",
    "dataframe['species'] = dataframe['species'].astype('category').cat.codes\n",
    "dataframe.head()"
   ]
  },
  {
   "cell_type": "markdown",
   "metadata": {},
   "source": [
    "# Two parts of the competition\n",
    "1. Leaf classification using binary images\n",
    "2. Leaf classification using numerical data included in the csv files\n",
    "\n",
    "# Dataset\n",
    "- 99 species of leaf\n",
    "- `train.csv`: use to train and test the model\n",
    "- `test.csv`: actual validation to generate the submission\n",
    "- All 1584 `jpg` images are in `images/` without any speparation\n",
    "- Images filename are `id.jpg`\n",
    "- The class of each images can be found in the `train.csv` with its corresponding id under the `species` column\n",
    "\n",
    "Due to the nature of this dataset, a custom `Dataset` class is required to easily load images and combine them with its corresponding label."
   ]
  },
  {
   "cell_type": "code",
   "execution_count": 3,
   "metadata": {},
   "outputs": [],
   "source": [
    "class LeafDataset(Dataset):\n",
    "    def __init__(self, images_dir, dataframe, transform):\n",
    "        self.images_dir = images_dir\n",
    "        self.dataframe = dataframe\n",
    "        self.transform = transform\n",
    "\n",
    "    def __len__(self):\n",
    "        return len(self.dataframe)\n",
    "    \n",
    "    def __getitem__(self, idx):\n",
    "        img_name = str(int(self.dataframe.iloc[idx]['id'])) + \".jpg\"\n",
    "        img_dir = os.path.join(self.images_dir, img_name)\n",
    "\n",
    "        # img = Image.open(img_dir)\n",
    "        # read_image returns a tensor\n",
    "        # no need for transforms.ToTensor()\n",
    "        img = tv.io.read_image(img_dir)\n",
    "        img = self.transform(img)\n",
    "        label = self.dataframe.iloc[idx]['species']\n",
    "        label = label.astype('int64')\n",
    "        return img, label"
   ]
  },
  {
   "cell_type": "code",
   "execution_count": 4,
   "metadata": {},
   "outputs": [
    {
     "data": {
      "text/plain": [
       "3     10\n",
       "26    10\n",
       "2     10\n",
       "39    10\n",
       "0     10\n",
       "      ..\n",
       "12    10\n",
       "88    10\n",
       "27    10\n",
       "36    10\n",
       "91    10\n",
       "Name: species, Length: 99, dtype: int64"
      ]
     },
     "execution_count": 4,
     "metadata": {},
     "output_type": "execute_result"
    }
   ],
   "source": [
    "dataframe['species'].value_counts()"
   ]
  },
  {
   "cell_type": "code",
   "execution_count": 6,
   "metadata": {},
   "outputs": [
    {
     "data": {
      "text/plain": [
       "(3960, 990)"
      ]
     },
     "execution_count": 6,
     "metadata": {},
     "output_type": "execute_result"
    }
   ],
   "source": [
    "IMAGE_WIDTH = 64\n",
    "IMAGE_HEIGHT = 64\n",
    "BATCH_SIZE = 64\n",
    "TEST_SIZE = 0.2\n",
    "NUM_DATASET_REPEAT = 5 # repeat the dataset with augmentation to increase the number of samples\n",
    "\n",
    "train_df, test_df = train_test_split(dataframe, test_size=TEST_SIZE)\n",
    "len(train_df) * NUM_DATASET_REPEAT, len(test_df) * NUM_DATASET_REPEAT"
   ]
  },
  {
   "cell_type": "code",
   "execution_count": 19,
   "metadata": {},
   "outputs": [],
   "source": [
    "train_transform = tv.transforms.Compose([\n",
    "    tv.transforms.Resize((IMAGE_WIDTH, IMAGE_HEIGHT)),\n",
    "    tv.transforms.RandomHorizontalFlip(),\n",
    "    tv.transforms.RandomRotation(90),\n",
    "    tv.transforms.RandomAffine(0, shear=10, scale=(0.8, 1.2)),\n",
    "    tv.transforms.Lambda(lambda x: x/255.0), # normalize the image and to float\n",
    "    # tv.transforms.ToTensor(), # using read_image already converts to tensor\n",
    "])\n",
    "\n",
    "test_transform = tv.transforms.Compose([\n",
    "    tv.transforms.Resize((IMAGE_WIDTH, IMAGE_HEIGHT)),\n",
    "    tv.transforms.RandomHorizontalFlip(),\n",
    "    tv.transforms.RandomRotation(90),\n",
    "    tv.transforms.RandomAffine(0, shear=10, scale=(0.8, 1.2)),\n",
    "    tv.transforms.Lambda(lambda x: x/255.0), # normalize the image and to float\n",
    "])  \n",
    "\n",
    "train_ds = LeafDataset(img_dir, dataframe=train_df, transform=train_transform)\n",
    "test_ds = LeafDataset(img_dir, dataframe=test_df, transform=test_transform)\n",
    "\n",
    "# increase the size of the dataset by repeating the data \n",
    "# while augmenting each of them slightly differently\n",
    "augmented_train_ds = ConcatDataset([train_ds for _ in range(NUM_DATASET_REPEAT)])\n",
    "augmented_test_ds = ConcatDataset([test_ds for _ in range(NUM_DATASET_REPEAT)])\n",
    "\n",
    "train_dl = DataLoader(augmented_train_ds, batch_size=BATCH_SIZE, shuffle=True)\n",
    "test_dl = DataLoader(augmented_test_ds, batch_size=BATCH_SIZE, shuffle=True)"
   ]
  },
  {
   "cell_type": "code",
   "execution_count": 20,
   "metadata": {},
   "outputs": [
    {
     "data": {
      "text/plain": [
       "<matplotlib.image.AxesImage at 0x175eb308e80>"
      ]
     },
     "execution_count": 20,
     "metadata": {},
     "output_type": "execute_result"
    },
    {
     "data": {
      "image/png": "[encoded data removed]",
      "text/plain": [
       "<Figure size 640x480 with 1 Axes>"
      ]
     },
     "metadata": {},
     "output_type": "display_data"
    }
   ],
   "source": [
    "img, label = next(iter(train_dl))\n",
    "# make a grid from batch\n",
    "out = tv.utils.make_grid(img)\n",
    "plt.imshow(out.numpy().transpose((1, 2, 0)))"
   ]
  },
  {
   "cell_type": "code",
   "execution_count": 21,
   "metadata": {},
   "outputs": [],
   "source": [
    "class Model(nn.Module):\n",
    "    def __init__(self):\n",
    "        super(Model, self).__init__()\n",
    "        # original image size: 64 x 64\n",
    "        self.conv1 = nn.Conv2d(1, 16, 3) # -> 62 x 62\n",
    "        # max pool -> 31 x 31\n",
    "        self.conv2 = nn.Conv2d(16, 32, 3) # -> 29 x 29\n",
    "        # max pool again -> 14 x 14\n",
    "        self.conv3 = nn.Conv2d(32, 32, 3) # -> 12 x 12\n",
    "        # max pool again -> 6 x 6\n",
    "        self.layer1 = nn.Linear(32 * 6 * 6, 128)\n",
    "        self.layer2 = nn.Linear(128, 99)\n",
    "\n",
    "        self.relu = nn.ReLU()\n",
    "        self.pool = nn.MaxPool2d(2, 2)\n",
    "        self.dropout = nn.Dropout(0.2)\n",
    "        self.softmax = nn.Softmax(dim=1)\n",
    "    \n",
    "    def forward(self, x):\n",
    "        x = self.pool(self.relu(self.conv1(x)))\n",
    "        x = self.pool(self.relu(self.conv2(x)))\n",
    "        x = self.pool(self.relu(self.conv3(x)))\n",
    "        x = t.flatten(x, 1)\n",
    "        x = self.dropout(x)\n",
    "        x = self.layer1(x)\n",
    "        x = self.relu(x)\n",
    "        x = self.layer2(x)\n",
    "        # x = self.softmax(x)\n",
    "        return x"
   ]
  },
  {
   "cell_type": "code",
   "execution_count": 22,
   "metadata": {},
   "outputs": [],
   "source": [
    "def train(model, train_dl, loss_func, optimizer):\n",
    "    model.train()\n",
    "    total_loss = 0\n",
    "    for i, (img, label) in enumerate(train_dl):\n",
    "        optimizer.zero_grad()\n",
    "        output = model(img)\n",
    "        loss = loss_func(output, label)\n",
    "        loss.backward()\n",
    "        optimizer.step()\n",
    "        total_loss += loss.item()\n",
    "        print(f\"Batch: {i}/{len(train_dl)}, Loss: {loss.item()}\", end='\\r')\n",
    "    return total_loss / len(train_dl)\n",
    "\n",
    "def test(model, test_dl, loss_func):\n",
    "    model.eval()\n",
    "    total_loss = 0\n",
    "    with t.no_grad():\n",
    "        for i, (img, label) in enumerate(test_dl):\n",
    "            output = model(img)\n",
    "            loss = loss_func(output, label)\n",
    "            total_loss += loss.item()\n",
    "    return total_loss / len(test_dl)\n",
    "\n",
    "def fit(model, train_dl, test_dl, loss_func, optimizer, epochs, callback):\n",
    "    for epoch in range(epochs):\n",
    "        train_loss = train(model, train_dl, loss_func, optimizer)\n",
    "        test_loss = test(model, test_dl, loss_func)\n",
    "        callback(epoch, train_loss, test_loss, model)"
   ]
  },
  {
   "cell_type": "code",
   "execution_count": 23,
   "metadata": {},
   "outputs": [
    {
     "data": {
      "text/plain": [
       "<All keys matched successfully>"
      ]
     },
     "execution_count": 23,
     "metadata": {},
     "output_type": "execute_result"
    }
   ],
   "source": [
    "model = Model()\n",
    "loss_func = nn.CrossEntropyLoss()\n",
    "optimizer = optim.Adam(model.parameters(), lr=0.002)\n",
    "\n",
    "model.load_state_dict(t.load('./models/model_2_45_more_conv.pth'))"
   ]
  },
  {
   "cell_type": "code",
   "execution_count": null,
   "metadata": {},
   "outputs": [],
   "source": [
    "epochs = 20\n",
    "losses = []\n",
    "\n",
    "def callback(epoch, train_loss, test_loss, model):\n",
    "    print(f\"Epoch: {epoch}, Train loss: {train_loss}, Test loss: {test_loss}\")\n",
    "    losses.append([epoch, train_loss, test_loss])\n",
    "    model_path = f\"./models/model_{epoch}.pth\"\n",
    "    t.save(model.state_dict(), model_path)\n",
    "\n",
    "fit(model, \n",
    "    train_dl, \n",
    "    test_dl, \n",
    "    loss_func, \n",
    "    optimizer, \n",
    "    epochs, \n",
    "    callback)\n",
    "\n",
    "losses = np.array(losses)\n",
    "plt.title('Test Losses over Epochs')\n",
    "plt.plot(losses[:, 0], losses[:, 2], label='test')"
   ]
  }
 ],
 "metadata": {
  "kernelspec": {
   "display_name": "Python 3",
   "language": "python",
   "name": "python3"
  },
  "language_info": {
   "codemirror_mode": {
    "name": "ipython",
    "version": 3
   },
   "file_extension": ".py",
   "mimetype": "text/x-python",
   "name": "python",
   "nbconvert_exporter": "python",
   "pygments_lexer": "ipython3",
   "version": "3.9.0"
  }
 },
 "nbformat": 4,
 "nbformat_minor": 2
}
