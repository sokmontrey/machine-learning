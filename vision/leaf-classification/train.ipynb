{
 "cells": [
  {
   "cell_type": "code",
   "execution_count": 1,
   "metadata": {},
   "outputs": [
    {
     "name": "stderr",
     "output_type": "stream",
     "text": [
      "c:\\Users\\sokmo\\AppData\\Local\\Programs\\Python\\Python39\\lib\\site-packages\\sklearn\\utils\\_param_validation.py:11: UserWarning: A NumPy version >=1.22.4 and <1.29.0 is required for this version of SciPy (detected version 1.22.0)\n",
      "  from scipy.sparse import csr_matrix, issparse\n"
     ]
    }
   ],
   "source": [
    "import torch as t\n",
    "import torch.nn as nn\n",
    "import torch.nn.functional as F\n",
    "import torch.optim as optim\n",
    "from torch.utils.data import DataLoader, Dataset, ConcatDataset\n",
    "\n",
    "import torchvision as tv\n",
    "\n",
    "import pandas as pd\n",
    "from sklearn.model_selection import train_test_split\n",
    "import numpy as np\n",
    "import os\n",
    "\n",
    "import matplotlib.pyplot as plt"
   ]
  },
  {
   "cell_type": "markdown",
   "metadata": {},
   "source": [
    "The following dataset is from a kaggle competition: [Leaf Classification](https://www.kaggle.com/competitions/leaf-classification/overview)\n",
    "\n",
    "This notebook is for training and testing the model. Please check `eval.ipynb` for the validation and submission code.\n",
    "\n",
    "> IMPORTANT\n",
    "\n",
    "The dataset directory structure is modified.  Please update the img_dir and csv_dir to the correct form. Or modified your dataset directory into the form:\n",
    "\n",
    "- `leaf-classification/`\n",
    "    - `images/`\n",
    "        - `1.jpg`\n",
    "        - `...`\n",
    "    - `test.csv`\n",
    "    - `train.csv`"
   ]
  },
  {
   "cell_type": "code",
   "execution_count": 2,
   "metadata": {},
   "outputs": [
    {
     "data": {
      "text/html": [
       "<div>\n",
       "<style scoped>\n",
       "    .dataframe tbody tr th:only-of-type {\n",
       "        vertical-align: middle;\n",
       "    }\n",
       "\n",
       "    .dataframe tbody tr th {\n",
       "        vertical-align: top;\n",
       "    }\n",
       "\n",
       "    .dataframe thead th {\n",
       "        text-align: right;\n",
       "    }\n",
       "</style>\n",
       "<table border=\"1\" class=\"dataframe\">\n",
       "  <thead>\n",
       "    <tr style=\"text-align: right;\">\n",
       "      <th></th>\n",
       "      <th>id</th>\n",
       "      <th>species</th>\n",
       "      <th>margin1</th>\n",
       "      <th>margin2</th>\n",
       "      <th>margin3</th>\n",
       "      <th>margin4</th>\n",
       "      <th>margin5</th>\n",
       "      <th>margin6</th>\n",
       "      <th>margin7</th>\n",
       "      <th>margin8</th>\n",
       "      <th>...</th>\n",
       "      <th>texture55</th>\n",
       "      <th>texture56</th>\n",
       "      <th>texture57</th>\n",
       "      <th>texture58</th>\n",
       "      <th>texture59</th>\n",
       "      <th>texture60</th>\n",
       "      <th>texture61</th>\n",
       "      <th>texture62</th>\n",
       "      <th>texture63</th>\n",
       "      <th>texture64</th>\n",
       "    </tr>\n",
       "  </thead>\n",
       "  <tbody>\n",
       "    <tr>\n",
       "      <th>0</th>\n",
       "      <td>1</td>\n",
       "      <td>3</td>\n",
       "      <td>0.007812</td>\n",
       "      <td>0.023438</td>\n",
       "      <td>0.023438</td>\n",
       "      <td>0.003906</td>\n",
       "      <td>0.011719</td>\n",
       "      <td>0.009766</td>\n",
       "      <td>0.027344</td>\n",
       "      <td>0.0</td>\n",
       "      <td>...</td>\n",
       "      <td>0.007812</td>\n",
       "      <td>0.000000</td>\n",
       "      <td>0.002930</td>\n",
       "      <td>0.002930</td>\n",
       "      <td>0.035156</td>\n",
       "      <td>0.0</td>\n",
       "      <td>0.0</td>\n",
       "      <td>0.004883</td>\n",
       "      <td>0.000000</td>\n",
       "      <td>0.025391</td>\n",
       "    </tr>\n",
       "    <tr>\n",
       "      <th>1</th>\n",
       "      <td>2</td>\n",
       "      <td>49</td>\n",
       "      <td>0.005859</td>\n",
       "      <td>0.000000</td>\n",
       "      <td>0.031250</td>\n",
       "      <td>0.015625</td>\n",
       "      <td>0.025391</td>\n",
       "      <td>0.001953</td>\n",
       "      <td>0.019531</td>\n",
       "      <td>0.0</td>\n",
       "      <td>...</td>\n",
       "      <td>0.000977</td>\n",
       "      <td>0.000000</td>\n",
       "      <td>0.000000</td>\n",
       "      <td>0.000977</td>\n",
       "      <td>0.023438</td>\n",
       "      <td>0.0</td>\n",
       "      <td>0.0</td>\n",
       "      <td>0.000977</td>\n",
       "      <td>0.039062</td>\n",
       "      <td>0.022461</td>\n",
       "    </tr>\n",
       "    <tr>\n",
       "      <th>2</th>\n",
       "      <td>3</td>\n",
       "      <td>65</td>\n",
       "      <td>0.005859</td>\n",
       "      <td>0.009766</td>\n",
       "      <td>0.019531</td>\n",
       "      <td>0.007812</td>\n",
       "      <td>0.003906</td>\n",
       "      <td>0.005859</td>\n",
       "      <td>0.068359</td>\n",
       "      <td>0.0</td>\n",
       "      <td>...</td>\n",
       "      <td>0.154300</td>\n",
       "      <td>0.000000</td>\n",
       "      <td>0.005859</td>\n",
       "      <td>0.000977</td>\n",
       "      <td>0.007812</td>\n",
       "      <td>0.0</td>\n",
       "      <td>0.0</td>\n",
       "      <td>0.000000</td>\n",
       "      <td>0.020508</td>\n",
       "      <td>0.002930</td>\n",
       "    </tr>\n",
       "    <tr>\n",
       "      <th>3</th>\n",
       "      <td>5</td>\n",
       "      <td>94</td>\n",
       "      <td>0.000000</td>\n",
       "      <td>0.003906</td>\n",
       "      <td>0.023438</td>\n",
       "      <td>0.005859</td>\n",
       "      <td>0.021484</td>\n",
       "      <td>0.019531</td>\n",
       "      <td>0.023438</td>\n",
       "      <td>0.0</td>\n",
       "      <td>...</td>\n",
       "      <td>0.000000</td>\n",
       "      <td>0.000977</td>\n",
       "      <td>0.000000</td>\n",
       "      <td>0.000000</td>\n",
       "      <td>0.020508</td>\n",
       "      <td>0.0</td>\n",
       "      <td>0.0</td>\n",
       "      <td>0.017578</td>\n",
       "      <td>0.000000</td>\n",
       "      <td>0.047852</td>\n",
       "    </tr>\n",
       "    <tr>\n",
       "      <th>4</th>\n",
       "      <td>6</td>\n",
       "      <td>84</td>\n",
       "      <td>0.005859</td>\n",
       "      <td>0.003906</td>\n",
       "      <td>0.048828</td>\n",
       "      <td>0.009766</td>\n",
       "      <td>0.013672</td>\n",
       "      <td>0.015625</td>\n",
       "      <td>0.005859</td>\n",
       "      <td>0.0</td>\n",
       "      <td>...</td>\n",
       "      <td>0.096680</td>\n",
       "      <td>0.000000</td>\n",
       "      <td>0.021484</td>\n",
       "      <td>0.000000</td>\n",
       "      <td>0.000000</td>\n",
       "      <td>0.0</td>\n",
       "      <td>0.0</td>\n",
       "      <td>0.000000</td>\n",
       "      <td>0.000000</td>\n",
       "      <td>0.031250</td>\n",
       "    </tr>\n",
       "  </tbody>\n",
       "</table>\n",
       "<p>5 rows × 194 columns</p>\n",
       "</div>"
      ],
      "text/plain": [
       "   id  species   margin1   margin2   margin3   margin4   margin5   margin6  \\\n",
       "0   1        3  0.007812  0.023438  0.023438  0.003906  0.011719  0.009766   \n",
       "1   2       49  0.005859  0.000000  0.031250  0.015625  0.025391  0.001953   \n",
       "2   3       65  0.005859  0.009766  0.019531  0.007812  0.003906  0.005859   \n",
       "3   5       94  0.000000  0.003906  0.023438  0.005859  0.021484  0.019531   \n",
       "4   6       84  0.005859  0.003906  0.048828  0.009766  0.013672  0.015625   \n",
       "\n",
       "    margin7  margin8  ...  texture55  texture56  texture57  texture58  \\\n",
       "0  0.027344      0.0  ...   0.007812   0.000000   0.002930   0.002930   \n",
       "1  0.019531      0.0  ...   0.000977   0.000000   0.000000   0.000977   \n",
       "2  0.068359      0.0  ...   0.154300   0.000000   0.005859   0.000977   \n",
       "3  0.023438      0.0  ...   0.000000   0.000977   0.000000   0.000000   \n",
       "4  0.005859      0.0  ...   0.096680   0.000000   0.021484   0.000000   \n",
       "\n",
       "   texture59  texture60  texture61  texture62  texture63  texture64  \n",
       "0   0.035156        0.0        0.0   0.004883   0.000000   0.025391  \n",
       "1   0.023438        0.0        0.0   0.000977   0.039062   0.022461  \n",
       "2   0.007812        0.0        0.0   0.000000   0.020508   0.002930  \n",
       "3   0.020508        0.0        0.0   0.017578   0.000000   0.047852  \n",
       "4   0.000000        0.0        0.0   0.000000   0.000000   0.031250  \n",
       "\n",
       "[5 rows x 194 columns]"
      ]
     },
     "execution_count": 2,
     "metadata": {},
     "output_type": "execute_result"
    }
   ],
   "source": [
    "t.manual_seed(101)\n",
    "\n",
    "img_dir = '../../datasets/leaf-classification/images/'\n",
    "csv_dir = '../../datasets/leaf-classification/train.csv'\n",
    "\n",
    "img_filenames_list = os.listdir(img_dir)\n",
    "dataframe = pd.read_csv(csv_dir)\n",
    "dataframe['species'] = dataframe['species'].astype('category').cat.codes\n",
    "dataframe.head()"
   ]
  },
  {
   "cell_type": "markdown",
   "metadata": {},
   "source": [
    "# Two parts of the competition\n",
    "1. Leaf classification using binary images\n",
    "2. Leaf classification using numerical data included in the csv files\n",
    "\n",
    "The following model achieved 2.43 public for the images leaf classification.\n",
    "\n",
    "# Dataset\n",
    "- 99 species of leaf\n",
    "- `train.csv`: use to train and test the model\n",
    "- `test.csv`: actual validation to generate the submission\n",
    "- All 1584 `jpg` images are in `images/` without any speparation\n",
    "- Images filename are `id.jpg`\n",
    "- The class of each images can be found in the `train.csv` with its corresponding id under the `species` column\n",
    "\n",
    "Due to the nature of this dataset, a custom `Dataset` class is required to easily load images and combine them with its corresponding label."
   ]
  },
  {
   "cell_type": "code",
   "execution_count": 3,
   "metadata": {},
   "outputs": [],
   "source": [
    "class LeafDataset(Dataset):\n",
    "    def __init__(self, images_dir, dataframe, transform):\n",
    "        self.images_dir = images_dir\n",
    "        self.dataframe = dataframe\n",
    "        self.transform = transform\n",
    "\n",
    "    def __len__(self):\n",
    "        return len(self.dataframe)\n",
    "    \n",
    "    def __getitem__(self, idx):\n",
    "        img_name = str(int(self.dataframe.iloc[idx]['id'])) + \".jpg\"\n",
    "        img_dir = os.path.join(self.images_dir, img_name)\n",
    "\n",
    "        # img = Image.open(img_dir)\n",
    "        # read_image returns a tensor\n",
    "        # no need for transforms.ToTensor()\n",
    "        img = tv.io.read_image(img_dir)\n",
    "        img = self.transform(img)\n",
    "        label = self.dataframe.iloc[idx]['species']\n",
    "        label = label.astype('int64')\n",
    "        return img, label"
   ]
  },
  {
   "cell_type": "code",
   "execution_count": 4,
   "metadata": {},
   "outputs": [
    {
     "data": {
      "text/plain": [
       "3     10\n",
       "26    10\n",
       "2     10\n",
       "39    10\n",
       "0     10\n",
       "      ..\n",
       "12    10\n",
       "88    10\n",
       "27    10\n",
       "36    10\n",
       "91    10\n",
       "Name: species, Length: 99, dtype: int64"
      ]
     },
     "execution_count": 4,
     "metadata": {},
     "output_type": "execute_result"
    }
   ],
   "source": [
    "dataframe['species'].value_counts()"
   ]
  },
  {
   "cell_type": "code",
   "execution_count": 26,
   "metadata": {},
   "outputs": [
    {
     "data": {
      "text/plain": [
       "(5544, 1386)"
      ]
     },
     "execution_count": 26,
     "metadata": {},
     "output_type": "execute_result"
    }
   ],
   "source": [
    "IMAGE_WIDTH = 64\n",
    "IMAGE_HEIGHT = 64\n",
    "BATCH_SIZE = 512\n",
    "TEST_SIZE = 0.2\n",
    "NUM_TRAIN_DATASET_RESPEAT = 7 # repeat the dataset with augmentation to increase the number of samples\n",
    "NUM_TEST_DATASET_RESPEAT = 2\n",
    "\n",
    "train_df, test_df = train_test_split(dataframe, test_size=TEST_SIZE)\n",
    "len(train_df) * NUM_TRAIN_DATASET_RESPEAT, len(test_df) * NUM_TRAIN_DATASET_RESPEAT"
   ]
  },
  {
   "cell_type": "code",
   "execution_count": 27,
   "metadata": {},
   "outputs": [],
   "source": [
    "train_transform = tv.transforms.Compose([\n",
    "    tv.transforms.Resize((IMAGE_WIDTH, IMAGE_HEIGHT)),\n",
    "    # tv.transforms.RandomHorizontalFlip(),\n",
    "    tv.transforms.RandomRotation(45),\n",
    "    tv.transforms.RandomAffine(0, shear=10, scale=(0.8, 1.2)),\n",
    "    tv.transforms.Lambda(lambda x: x/255.0), # normalize the image and to float\n",
    "    # tv.transforms.ToTensor(), # using read_image already converts to tensor\n",
    "])\n",
    "\n",
    "test_transform = tv.transforms.Compose([\n",
    "    tv.transforms.Resize((IMAGE_WIDTH, IMAGE_HEIGHT)),\n",
    "    # tv.transforms.RandomHorizontalFlip(),\n",
    "    # tv.transforms.RandomRotation(45),\n",
    "    # tv.transforms.RandomAffine(0, shear=10, scale=(0.8, 1.2)),\n",
    "    tv.transforms.Lambda(lambda x: x/255.0), # normalize the image and to float\n",
    "])  \n",
    "\n",
    "train_ds = LeafDataset(img_dir, dataframe=train_df, transform=train_transform)\n",
    "test_ds = LeafDataset(img_dir, dataframe=test_df, transform=test_transform)\n",
    "\n",
    "# increase the number of samples by repeating the dataset multiple times\n",
    "# while augmenting each of them slightly differently\n",
    "augmented_train_ds = ConcatDataset([train_ds for _ in range(NUM_TRAIN_DATASET_RESPEAT)])\n",
    "augmented_test_ds = ConcatDataset([test_ds for _ in range(NUM_TEST_DATASET_RESPEAT)])\n",
    "\n",
    "train_dl = DataLoader(augmented_train_ds, batch_size=BATCH_SIZE, shuffle=True)\n",
    "test_dl = DataLoader(augmented_test_ds, batch_size=BATCH_SIZE, shuffle=True)"
   ]
  },
  {
   "cell_type": "code",
   "execution_count": 28,
   "metadata": {},
   "outputs": [
    {
     "data": {
      "text/plain": [
       "<matplotlib.image.AxesImage at 0x2250f214190>"
      ]
     },
     "execution_count": 28,
     "metadata": {},
     "output_type": "execute_result"
    },
    {
     "data": {
      "image/png": "[encoded data removed]",
      "text/plain": [
       "<Figure size 640x480 with 1 Axes>"
      ]
     },
     "metadata": {},
     "output_type": "display_data"
    }
   ],
   "source": [
    "# get some random training images to check the data\n",
    "img, label = next(iter(train_dl))\n",
    "# make a grid from batch\n",
    "out = tv.utils.make_grid(img)\n",
    "plt.imshow(out.numpy().transpose((1, 2, 0)))"
   ]
  },
  {
   "cell_type": "code",
   "execution_count": 29,
   "metadata": {},
   "outputs": [],
   "source": [
    "class Model(nn.Module):\n",
    "    def __init__(self):\n",
    "        super(Model, self).__init__()\n",
    "        # original image size: 64 x 64\n",
    "        self.conv1 = nn.Conv2d(1, 32, 3) # -> 62 x 62\n",
    "        # max pool -> 31 x 31\n",
    "        self.conv2 = nn.Conv2d(32, 64, 3) # -> 29 x 29\n",
    "        # max pool again -> 14 x 14\n",
    "        self.conv3 = nn.Conv2d(64, 64, 3) # -> 12 x 12\n",
    "        # max pool again -> 6 x 6\n",
    "        self.layer1 = nn.Linear(64* 6 * 6, 128)\n",
    "        self.layer2 = nn.Linear(128, 99)\n",
    "\n",
    "        self.relu = nn.ReLU()\n",
    "        self.pool = nn.MaxPool2d(2, 2)\n",
    "        self.dropout = nn.Dropout(0.2)\n",
    "        self.softmax = nn.Softmax(dim=1)\n",
    "    \n",
    "    def forward(self, x):\n",
    "        x = self.pool(self.relu(self.conv1(x)))\n",
    "        x = self.pool(self.relu(self.conv2(x)))\n",
    "        x = self.pool(self.relu(self.conv3(x)))\n",
    "        x = t.flatten(x, 1)\n",
    "        x = self.dropout(x)\n",
    "        x = self.layer1(x)\n",
    "        x = self.relu(x)\n",
    "        x = self.layer2(x)\n",
    "        # x = self.softmax(x) # disabled for CrossEntropyLoss\n",
    "        return x"
   ]
  },
  {
   "cell_type": "markdown",
   "metadata": {},
   "source": [
    "Softmax is disabled while training. But it's important to use it when generate the submission prediction. The submission score is based on the probability of all classes.\n",
    "\n",
    "$$log loss = -\\frac{1}{N}\\sum_{i=1}^N\\sum_{j=1}^My_{ij}\\log(p_{ij})$$ \n",
    "\n",
    "(Formula from their official kaggle page)"
   ]
  },
  {
   "cell_type": "code",
   "execution_count": 30,
   "metadata": {},
   "outputs": [],
   "source": [
    "def train(model, train_dl, loss_func, optimizer):\n",
    "    model.train()\n",
    "    total_loss = 0\n",
    "    for i, (img, label) in enumerate(train_dl):\n",
    "        optimizer.zero_grad()\n",
    "        pred = model.forward(img)\n",
    "        loss = loss_func(pred, label)\n",
    "        loss.backward()\n",
    "        optimizer.step()\n",
    "        total_loss += loss.item()\n",
    "        print(f\"Batch: {i}/{len(train_dl)}, Loss: {loss.item()}\", end='\\r')\n",
    "    return total_loss / len(train_dl)\n",
    "\n",
    "def test(model, test_dl, loss_func):\n",
    "    model.eval()\n",
    "    total_loss = 0\n",
    "    with t.no_grad():\n",
    "        for i, (img, label) in enumerate(test_dl):\n",
    "            pred = model.forward(img)\n",
    "            loss = loss_func(pred, label)\n",
    "            total_loss += loss.item()\n",
    "    return total_loss / len(test_dl)\n",
    "\n",
    "def fit(model, train_dl, test_dl, loss_func, optimizer, epochs, callback):\n",
    "    for epoch in range(epochs):\n",
    "        train_loss = train(model, train_dl, loss_func, optimizer)\n",
    "        test_loss = test(model, test_dl, loss_func)\n",
    "        callback(epoch, train_loss, test_loss, model)"
   ]
  },
  {
   "cell_type": "code",
   "execution_count": 31,
   "metadata": {},
   "outputs": [],
   "source": [
    "model = Model()\n",
    "loss_func = nn.CrossEntropyLoss()\n",
    "optimizer = optim.Adam(model.parameters(), lr=0.001)\n",
    "\n",
    "# model.load_state_dict(t.load('./models/model_45.pth'))"
   ]
  },
  {
   "cell_type": "markdown",
   "metadata": {},
   "source": [
    "> IMPORTANT\n",
    "\n",
    "Create a directory named `models/` in the current directory for the checkpoint saving to work."
   ]
  },
  {
   "cell_type": "code",
   "execution_count": 32,
   "metadata": {},
   "outputs": [
    {
     "name": "stdout",
     "output_type": "stream",
     "text": [
      "Epoch: 0, Train loss: 4.574427778070623, Test loss: 4.577958583831787\n",
      "Epoch: 1, Train loss: 4.317152413454923, Test loss: 4.223255634307861\n",
      "Epoch: 2, Train loss: 3.8899696090004663, Test loss: 3.693164348602295\n",
      "Epoch: 3, Train loss: 3.5156905867836694, Test loss: 3.23391056060791\n",
      "Epoch: 4, Train loss: 3.2751127156344326, Test loss: 2.95295786857605\n",
      "Epoch: 5, Train loss: 3.0674063725904985, Test loss: 2.831843137741089\n",
      "Epoch: 6, Train loss: 2.9264363158832896, Test loss: 2.66888427734375\n",
      "Epoch: 7, Train loss: 2.8252544619820337, Test loss: 2.4763433933258057\n",
      "Epoch: 8, Train loss: 2.7704348130659624, Test loss: 2.5403246879577637\n",
      "Epoch: 9, Train loss: 2.6728028817610308, Test loss: 2.4139959812164307\n",
      "Epoch: 10, Train loss: 2.5600271875208076, Test loss: 2.3211965560913086\n",
      "Epoch: 11, Train loss: 2.487354191866788, Test loss: 2.270021438598633\n",
      "Epoch: 12, Train loss: 2.4258171861821953, Test loss: 2.2423276901245117\n",
      "Epoch: 13, Train loss: 2.3535779172723945, Test loss: 2.2255990505218506\n",
      "Epoch: 14, Train loss: 2.2796085097573022, Test loss: 2.075953960418701\n",
      "Epoch: 15, Train loss: 2.2198294292796743, Test loss: 2.148435115814209\n",
      "Epoch: 16, Train loss: 2.23674015565352, Test loss: 2.0303378105163574\n",
      "Epoch: 17, Train loss: 2.122859174554998, Test loss: 2.030614137649536\n",
      "Epoch: 18, Train loss: 2.1082408644936304, Test loss: 2.0518388748168945\n",
      "Epoch: 19, Train loss: 2.0799972902644766, Test loss: 2.0389726161956787\n",
      "Epoch: 20, Train loss: 2.0414563417434692, Test loss: 1.9712491035461426\n",
      "Epoch: 21, Train loss: 1.9465542381460017, Test loss: 2.017916440963745\n",
      "Epoch: 22, Train loss: 1.9455568248575383, Test loss: 1.967259407043457\n",
      "Epoch: 23, Train loss: 1.937309904531999, Test loss: 1.8971953392028809\n",
      "Epoch: 24, Train loss: 1.9056632952256636, Test loss: 1.986798882484436\n",
      "Epoch: 25, Train loss: 1.802271073514765, Test loss: 1.9817935228347778\n",
      "Epoch: 26, Train loss: 1.780432722785256, Test loss: 1.897336721420288\n",
      "Epoch: 27, Train loss: 1.76727802103216, Test loss: 1.9051945209503174\n",
      "Epoch: 28, Train loss: 1.729508790102872, Test loss: 1.8372141122817993\n",
      "Epoch: 29, Train loss: 1.7028462886810303, Test loss: 1.8772610425949097\n",
      "Epoch: 30, Train loss: 1.656384901566939, Test loss: 1.8492258787155151\n",
      "Epoch: 31, Train loss: 1.6456818255511196, Test loss: 1.9417872428894043\n",
      "Epoch: 32, Train loss: 1.6103899804028599, Test loss: 1.8360575437545776\n",
      "Epoch: 33, Train loss: 1.5872271602804011, Test loss: 1.9586519002914429\n",
      "Epoch: 34, Train loss: 1.5452536994760686, Test loss: 1.8953664302825928\n",
      "Epoch: 35, Train loss: 1.5441369360143489, Test loss: 1.8571593761444092\n",
      "Epoch: 36, Train loss: 1.4875736019828103, Test loss: 1.8638581037521362\n",
      "Epoch: 37, Train loss: 1.491042061285539, Test loss: 1.7580965757369995\n",
      "Epoch: 38, Train loss: 1.479354132305492, Test loss: 1.9094749689102173\n",
      "Epoch: 39, Train loss: 1.474640672857111, Test loss: 1.8208019733428955\n",
      "Epoch: 40, Train loss: 1.4207527420737527, Test loss: 1.822466254234314\n",
      "Epoch: 41, Train loss: 1.4172406521710483, Test loss: 1.7933628559112549\n",
      "Epoch: 42, Train loss: 1.391558582132513, Test loss: 1.8232206106185913\n",
      "Epoch: 43, Train loss: 1.3864801255139438, Test loss: 1.7620759010314941\n",
      "Epoch: 44, Train loss: 1.3649080233140425, Test loss: 1.8873704671859741\n",
      "Epoch: 45, Train loss: 1.343609549782493, Test loss: 1.71831214427948\n",
      "Epoch: 46, Train loss: 1.3252513733777134, Test loss: 1.9270268678665161\n",
      "Epoch: 47, Train loss: 1.3332875533537432, Test loss: 1.783021092414856\n",
      "Epoch: 48, Train loss: 1.3099278103221546, Test loss: 1.7143886089324951\n",
      "Epoch: 49, Train loss: 1.3059430014003406, Test loss: 1.7322691679000854\n"
     ]
    },
    {
     "data": {
      "text/plain": [
       "[<matplotlib.lines.Line2D at 0x2250f244310>]"
      ]
     },
     "execution_count": 32,
     "metadata": {},
     "output_type": "execute_result"
    },
    {
     "data": {
      "image/png": "[encoded data removed]",
      "text/plain": [
       "<Figure size 640x480 with 1 Axes>"
      ]
     },
     "metadata": {},
     "output_type": "display_data"
    }
   ],
   "source": [
    "epochs = 50\n",
    "losses = []\n",
    "\n",
    "def callback(epoch, train_loss, test_loss, model):\n",
    "    print(f\"Epoch: {epoch}, Train loss: {train_loss}, Test loss: {test_loss}\")\n",
    "    losses.append([epoch, train_loss, test_loss])\n",
    "    # if epoch % 5 == 0:\n",
    "    model_path = f\"./models/model_{epoch}.pth\"\n",
    "    t.save(model.state_dict(), model_path)\n",
    "\n",
    "fit(model, \n",
    "    train_dl, \n",
    "    test_dl, \n",
    "    loss_func, \n",
    "    optimizer, \n",
    "    epochs, \n",
    "    callback)\n",
    "\n",
    "model_path = f\"./models/model_final.pth\"\n",
    "t.save(model.state_dict(), model_path)\n",
    "\n",
    "losses = np.array(losses)\n",
    "plt.title('Test Losses over Epochs')\n",
    "plt.plot(losses[:, 0], losses[:, 2], label='test')"
   ]
  },
  {
   "cell_type": "code",
   "execution_count": null,
   "metadata": {},
   "outputs": [],
   "source": []
  }
 ],
 "metadata": {
  "kernelspec": {
   "display_name": "Python 3",
   "language": "python",
   "name": "python3"
  },
  "language_info": {
   "codemirror_mode": {
    "name": "ipython",
    "version": 3
   },
   "file_extension": ".py",
   "mimetype": "text/x-python",
   "name": "python",
   "nbconvert_exporter": "python",
   "pygments_lexer": "ipython3",
   "version": "3.9.0"
  }
 },
 "nbformat": 4,
 "nbformat_minor": 2
}
