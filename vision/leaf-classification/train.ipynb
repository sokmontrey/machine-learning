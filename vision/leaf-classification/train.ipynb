{
 "cells": [
  {
   "cell_type": "code",
   "execution_count": 24,
   "metadata": {},
   "outputs": [],
   "source": [
    "import torch as t\n",
    "import torch.nn as nn\n",
    "import torch.nn.functional as F\n",
    "import torch.optim as optim\n",
    "from torch.utils.data import DataLoader, Dataset\n",
    "\n",
    "import torchvision as tv\n",
    "import PIL.Image as Image\n",
    "\n",
    "import matplotlib.pyplot as plt\n",
    "import pandas as pd\n",
    "import numpy as np\n",
    "import os"
   ]
  },
  {
   "cell_type": "code",
   "execution_count": 25,
   "metadata": {},
   "outputs": [],
   "source": [
    "class LeafTrainDataset(Dataset):\n",
    "    def __init__(self, images_dir, train_df, transform=None):\n",
    "        self.images_dir = images_dir\n",
    "        self.train_df = train_df\n",
    "        self.transform = transform\n",
    "\n",
    "    def __len__(self):\n",
    "        return len(self.train_df)\n",
    "    \n",
    "    def __getitem__(self, idx):\n",
    "        img_name = str(self.train_df.iloc[idx]['id']) + \".jpg\"\n",
    "        img_dir = os.path.join(self.images_dir, img_name)\n",
    "\n",
    "        # image = Image.open(img_dir)\n",
    "        img = tv.io.read_image(img_dir)\n",
    "        label = self.train_df.iloc[idx]['species']\n",
    "\n",
    "        if self.transform:\n",
    "            img = self.transform(img)\n",
    "        return img, label\n",
    "\n",
    "class LeafTestDataset(Dataset):\n",
    "    def __init__(self, images_dir, test_df, transform=None):\n",
    "        self.images_dir = images_dir\n",
    "        self.test_df = test_df\n",
    "        self.transform = transform\n",
    "\n",
    "    def __len__(self):\n",
    "        return len(self.test_df)\n",
    "    \n",
    "    def __getitem__(self, idx):\n",
    "        img_name = str(self.test_df.iloc[idx]['id']) + \".jpg\"\n",
    "        img_dir = os.path.join(self.images_dir, img_name)\n",
    "\n",
    "        image = Image.open(img_dir)\n",
    "        if self.transform:\n",
    "            image = self.transform(image)\n",
    "        return image"
   ]
  },
  {
   "cell_type": "code",
   "execution_count": 26,
   "metadata": {},
   "outputs": [],
   "source": [
    "img_dir = '../../datasets/leaf-classification/images/'\n",
    "train_csv_dir = '../../datasets/leaf-classification/train.csv'\n",
    "test_csv_dir = '../../datasets/leaf-classification/test.csv'\n",
    "\n",
    "img_filenames_list = os.listdir(img_dir)\n",
    "train_df = pd.read_csv(train_csv_dir)\n",
    "test_df = pd.read_csv(test_csv_dir)"
   ]
  },
  {
   "cell_type": "code",
   "execution_count": 27,
   "metadata": {},
   "outputs": [],
   "source": [
    "transform = tv.transforms.Compose([\n",
    "    tv.transforms.Resize((256, 256)),\n",
    "    # tv.transforms.ToTensor(),\n",
    "])\n",
    "\n",
    "train_ds = LeafTrainDataset(img_dir, train_df, transform)\n",
    "test_ds = LeafTestDataset(img_dir, test_df, transform)\n",
    "\n",
    "train_dl = DataLoader(train_ds, batch_size=4, shuffle=True)\n",
    "test_dl = DataLoader(test_ds, batch_size=4, shuffle=True)"
   ]
  },
  {
   "cell_type": "code",
   "execution_count": 28,
   "metadata": {},
   "outputs": [
    {
     "data": {
      "text/plain": [
       "torch.Size([4, 1, 256, 256])"
      ]
     },
     "execution_count": 28,
     "metadata": {},
     "output_type": "execute_result"
    }
   ],
   "source": [
    "test_img, label = next(iter(train_dl))\n",
    "test_img.shape"
   ]
  },
  {
   "cell_type": "code",
   "execution_count": 29,
   "metadata": {},
   "outputs": [
    {
     "data": {
      "text/plain": [
       "<matplotlib.image.AxesImage at 0x13f0dd31640>"
      ]
     },
     "execution_count": 29,
     "metadata": {},
     "output_type": "execute_result"
    },
    {
     "data": {
      "image/png": "[encoded data removed]",
      "text/plain": [
       "<Figure size 640x480 with 1 Axes>"
      ]
     },
     "metadata": {},
     "output_type": "display_data"
    }
   ],
   "source": [
    "# make a grid from batch\n",
    "out = tv.utils.make_grid(test_img)\n",
    "plt.imshow(out.numpy().transpose((1, 2, 0)))"
   ]
  },
  {
   "cell_type": "code",
   "execution_count": null,
   "metadata": {},
   "outputs": [],
   "source": []
  }
 ],
 "metadata": {
  "kernelspec": {
   "display_name": "Python 3",
   "language": "python",
   "name": "python3"
  },
  "language_info": {
   "codemirror_mode": {
    "name": "ipython",
    "version": 3
   },
   "file_extension": ".py",
   "mimetype": "text/x-python",
   "name": "python",
   "nbconvert_exporter": "python",
   "pygments_lexer": "ipython3",
   "version": "3.9.0"
  }
 },
 "nbformat": 4,
 "nbformat_minor": 2
}
