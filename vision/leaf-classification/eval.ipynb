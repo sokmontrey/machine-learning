{
 "cells": [
  {
   "cell_type": "code",
   "execution_count": 161,
   "metadata": {},
   "outputs": [],
   "source": [
    "import torch as t\n",
    "import torch.nn as nn\n",
    "import torch.nn.functional as F\n",
    "\n",
    "import torchvision as tv\n",
    "\n",
    "import pandas as pd\n",
    "from sklearn.model_selection import train_test_split\n",
    "import numpy as np\n",
    "import os"
   ]
  },
  {
   "cell_type": "code",
   "execution_count": 201,
   "metadata": {},
   "outputs": [],
   "source": [
    "t.manual_seed(101)\n",
    "\n",
    "img_dir = '../../datasets/leaf-classification/images/'\n",
    "train_csv_dir = '../../datasets/leaf-classification/train.csv'\n",
    "eval_csv_dir = '../../datasets/leaf-classification/test.csv'\n",
    "\n",
    "img_filenames_list = os.listdir(img_dir)\n",
    "eval_df = pd.read_csv(eval_csv_dir)\n",
    "train_df = pd.read_csv(train_csv_dir)"
   ]
  },
  {
   "cell_type": "code",
   "execution_count": 202,
   "metadata": {},
   "outputs": [
    {
     "data": {
      "text/plain": [
       "594"
      ]
     },
     "execution_count": 202,
     "metadata": {},
     "output_type": "execute_result"
    }
   ],
   "source": [
    "eval_ids = eval_df['id']\n",
    "eval_ids = eval_ids.to_list()\n",
    "len(eval_ids)"
   ]
  },
  {
   "cell_type": "code",
   "execution_count": 203,
   "metadata": {},
   "outputs": [],
   "source": [
    "transform = tv.transforms.Compose([\n",
    "    tv.transforms.Resize((64, 64)),\n",
    "    tv.transforms.Lambda(lambda x: x / 255.0)\n",
    "])\n",
    "\n",
    "def readImage(id):\n",
    "    eval_img_dir = img_dir + str(id) + '.jpg'\n",
    "    img_tensor = tv.io.read_image(eval_img_dir)\n",
    "    img_tensor = transform(img_tensor)\n",
    "    img_tensor = img_tensor.unsqueeze(0)\n",
    "    return img_tensor\n",
    "\n",
    "eval_inputs = t.cat([readImage(id) for id in eval_ids], dim=0)"
   ]
  },
  {
   "cell_type": "code",
   "execution_count": 209,
   "metadata": {},
   "outputs": [],
   "source": [
    "class Model(nn.Module):\n",
    "    def __init__(self):\n",
    "        super(Model, self).__init__()\n",
    "        # original image size: 64 x 64\n",
    "        self.conv1 = nn.Conv2d(1, 32, 3) # -> 62 x 62\n",
    "        # max pool -> 31 x 31\n",
    "        self.conv2 = nn.Conv2d(32, 64, 3) # -> 29 x 29\n",
    "        # max pool again -> 14 x 14\n",
    "        self.conv3 = nn.Conv2d(64, 64, 3) # -> 12 x 12\n",
    "        # max pool again -> 6 x 6\n",
    "        self.layer1 = nn.Linear(64* 6 * 6, 128)\n",
    "        self.layer2 = nn.Linear(128, 99)\n",
    "\n",
    "        self.relu = nn.ReLU()\n",
    "        self.pool = nn.MaxPool2d(2, 2)\n",
    "        self.dropout = nn.Dropout(0.2)\n",
    "        self.softmax = nn.Softmax(dim=1)\n",
    "    \n",
    "    def forward(self, x):\n",
    "        x = self.pool(self.relu(self.conv1(x)))\n",
    "        x = self.pool(self.relu(self.conv2(x)))\n",
    "        x = self.pool(self.relu(self.conv3(x)))\n",
    "        x = t.flatten(x, 1)\n",
    "        x = self.dropout(x)\n",
    "        x = self.layer1(x)\n",
    "        x = self.relu(x)\n",
    "        x = self.layer2(x)\n",
    "        x = self.softmax(x)\n",
    "        return x"
   ]
  },
  {
   "cell_type": "code",
   "execution_count": 210,
   "metadata": {},
   "outputs": [
    {
     "data": {
      "text/plain": [
       "<All keys matched successfully>"
      ]
     },
     "execution_count": 210,
     "metadata": {},
     "output_type": "execute_result"
    }
   ],
   "source": [
    "model = Model()\n",
    "model.load_state_dict(t.load('./models/model_final.pth'))"
   ]
  },
  {
   "cell_type": "code",
   "execution_count": 211,
   "metadata": {},
   "outputs": [
    {
     "data": {
      "text/plain": [
       "(594, 99)"
      ]
     },
     "execution_count": 211,
     "metadata": {},
     "output_type": "execute_result"
    }
   ],
   "source": [
    "pred = model.forward(eval_inputs)\n",
    "pred = pred.detach().numpy()\n",
    "pred.shape"
   ]
  },
  {
   "cell_type": "code",
   "execution_count": 212,
   "metadata": {},
   "outputs": [],
   "source": [
    "categories = train_df['species'].astype('category').cat.categories\n",
    "pd.set_option('display.float_format', lambda x: '%.3f' % x)\n",
    "submission_df = pd.DataFrame(columns=categories)\n",
    "submission_df['id'] = eval_df['id']\n",
    "for i in range(99):\n",
    "    submission_df[categories[i]] = pred[:, 98-i]"
   ]
  },
  {
   "cell_type": "code",
   "execution_count": 213,
   "metadata": {},
   "outputs": [],
   "source": [
    "# save the dataframe\n",
    "submission_df.to_csv('submission.csv', index=False)"
   ]
  }
 ],
 "metadata": {
  "kernelspec": {
   "display_name": "Python 3",
   "language": "python",
   "name": "python3"
  },
  "language_info": {
   "codemirror_mode": {
    "name": "ipython",
    "version": 3
   },
   "file_extension": ".py",
   "mimetype": "text/x-python",
   "name": "python",
   "nbconvert_exporter": "python",
   "pygments_lexer": "ipython3",
   "version": "3.9.0"
  }
 },
 "nbformat": 4,
 "nbformat_minor": 2
}
